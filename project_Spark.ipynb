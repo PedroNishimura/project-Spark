{
  "nbformat": 4,
  "nbformat_minor": 0,
  "metadata": {
    "colab": {
      "provenance": [],
      "authorship_tag": "ABX9TyNfeZrKGk5ifLDs8Lm9M8BA",
      "include_colab_link": true
    },
    "kernelspec": {
      "name": "python3",
      "display_name": "Python 3"
    },
    "language_info": {
      "name": "python"
    }
  },
  "cells": [
    {
      "cell_type": "markdown",
      "metadata": {
        "id": "view-in-github",
        "colab_type": "text"
      },
      "source": [
        "<a href=\"https://colab.research.google.com/github/PedroNishimura/project-Spark/blob/main/project_Spark.ipynb\" target=\"_parent\"><img src=\"https://colab.research.google.com/assets/colab-badge.svg\" alt=\"Open In Colab\"/></a>"
      ]
    },
    {
      "cell_type": "code",
      "execution_count": 8,
      "metadata": {
        "colab": {
          "base_uri": "https://localhost:8080/"
        },
        "id": "FhX_F4VZ8w9z",
        "outputId": "b97c41d1-e2ad-41b4-b739-3c1ff6c3bb33"
      },
      "outputs": [
        {
          "output_type": "stream",
          "name": "stdout",
          "text": [
            "\r0% [Working]\r            \rGet:1 http://security.ubuntu.com/ubuntu jammy-security InRelease [110 kB]\n",
            "\r0% [Connecting to archive.ubuntu.com] [1 InRelease 2,588 B/110 kB 2%] [Waiting for headers] [Connect\r                                                                                                    \rGet:2 https://cloud.r-project.org/bin/linux/ubuntu jammy-cran40/ InRelease [3,626 B]\n",
            "\r0% [Connecting to archive.ubuntu.com] [1 InRelease 14.2 kB/110 kB 13%] [2 InRelease 0 B/3,626 B 0%] \r0% [Connecting to archive.ubuntu.com] [1 InRelease 14.2 kB/110 kB 13%] [Connecting to ppa.launchpadc\r                                                                                                    \rGet:3 https://developer.download.nvidia.com/compute/cuda/repos/ubuntu2204/x86_64  InRelease [1,581 B]\n",
            "Hit:4 http://archive.ubuntu.com/ubuntu jammy InRelease\n",
            "Get:5 http://archive.ubuntu.com/ubuntu jammy-updates InRelease [119 kB]\n",
            "Get:6 https://developer.download.nvidia.com/compute/cuda/repos/ubuntu2204/x86_64  Packages [670 kB]\n",
            "Hit:7 http://archive.ubuntu.com/ubuntu jammy-backports InRelease\n",
            "Get:8 http://security.ubuntu.com/ubuntu jammy-security/restricted amd64 Packages [1,691 kB]\n",
            "Hit:9 https://ppa.launchpadcontent.net/c2d4u.team/c2d4u4.0+/ubuntu jammy InRelease\n",
            "Get:10 http://security.ubuntu.com/ubuntu jammy-security/main amd64 Packages [1,401 kB]\n",
            "Get:11 http://archive.ubuntu.com/ubuntu jammy-updates/main amd64 Packages [1,680 kB]\n",
            "Hit:12 https://ppa.launchpadcontent.net/deadsnakes/ppa/ubuntu jammy InRelease\n",
            "Hit:13 https://ppa.launchpadcontent.net/graphics-drivers/ppa/ubuntu jammy InRelease\n",
            "Get:14 http://archive.ubuntu.com/ubuntu jammy-updates/restricted amd64 Packages [1,728 kB]\n",
            "Hit:15 https://ppa.launchpadcontent.net/ubuntugis/ppa/ubuntu jammy InRelease\n",
            "Fetched 7,403 kB in 1s (6,037 kB/s)\n",
            "Reading package lists... Done\n"
          ]
        }
      ],
      "source": [
        "!apt-get update\n",
        "!apt-get install openjdk-11-jdk-headless -qq > /dev/null"
      ]
    },
    {
      "cell_type": "code",
      "source": [
        "!wget -q https://dlcdn.apache.org/spark/spark-3.5.0/spark-3.5.0-bin-hadoop3.tgz"
      ],
      "metadata": {
        "id": "NtNXyVDE-yU3"
      },
      "execution_count": 26,
      "outputs": []
    },
    {
      "cell_type": "code",
      "source": [
        "!tar xf /content/spark-3.5.0-bin-hadoop3.tgz"
      ],
      "metadata": {
        "id": "y4oTlSKt_Ff8"
      },
      "execution_count": 2,
      "outputs": []
    },
    {
      "cell_type": "code",
      "source": [
        "import os\n",
        "\n",
        "os.environ[\"JAVA_HOME\"] = \"/usr/lib/jvm/java-11-openjdk-amd64\"\n",
        "os.environ[\"SPARK_HOME\"] = \"/content/spark-3.5.0-bin-hadoop3\""
      ],
      "metadata": {
        "id": "U3cEwtpq_JX2"
      },
      "execution_count": 9,
      "outputs": []
    },
    {
      "cell_type": "code",
      "source": [
        "!pip install pyspark"
      ],
      "metadata": {
        "colab": {
          "base_uri": "https://localhost:8080/"
        },
        "id": "3Ex2wOy_IFo1",
        "outputId": "e05b5aab-a832-4bce-a4c3-6db90a50ba12"
      },
      "execution_count": 4,
      "outputs": [
        {
          "output_type": "stream",
          "name": "stdout",
          "text": [
            "Requirement already satisfied: pyspark in /usr/local/lib/python3.10/dist-packages (3.5.0)\n",
            "Requirement already satisfied: py4j==0.10.9.7 in /usr/local/lib/python3.10/dist-packages (from pyspark) (0.10.9.7)\n"
          ]
        }
      ]
    },
    {
      "cell_type": "code",
      "source": [
        "!pip install -q findspark"
      ],
      "metadata": {
        "id": "75-NV4h3BNZo"
      },
      "execution_count": 5,
      "outputs": []
    },
    {
      "cell_type": "code",
      "source": [
        "import findspark\n",
        "\n",
        "findspark.init()"
      ],
      "metadata": {
        "id": "J-AgpmMSBP9-"
      },
      "execution_count": 6,
      "outputs": []
    },
    {
      "cell_type": "code",
      "source": [
        "from pyspark.sql import SparkSession\n",
        "\n",
        "spark = SparkSession.builder.master(\"local\").appName(\"MovieAnalysis\").getOrCreate()"
      ],
      "metadata": {
        "id": "waFaxHcWHtjB"
      },
      "execution_count": 10,
      "outputs": []
    },
    {
      "cell_type": "code",
      "source": [
        "from google.colab import files\n",
        "\n",
        "arquivo = files.upload()"
      ],
      "metadata": {
        "colab": {
          "base_uri": "https://localhost:8080/",
          "height": 71
        },
        "id": "u7YY0R-vI7XG",
        "outputId": "2232cc12-0988-4fbe-cac9-f5eb44df0cc4"
      },
      "execution_count": 12,
      "outputs": [
        {
          "output_type": "display_data",
          "data": {
            "text/plain": [
              "<IPython.core.display.HTML object>"
            ],
            "text/html": [
              "\n",
              "     <input type=\"file\" id=\"files-6ab5fdd9-2fd1-489e-8b0b-5c38b2c34986\" name=\"files[]\" multiple disabled\n",
              "        style=\"border:none\" />\n",
              "     <output id=\"result-6ab5fdd9-2fd1-489e-8b0b-5c38b2c34986\">\n",
              "      Upload widget is only available when the cell has been executed in the\n",
              "      current browser session. Please rerun this cell to enable.\n",
              "      </output>\n",
              "      <script>// Copyright 2017 Google LLC\n",
              "//\n",
              "// Licensed under the Apache License, Version 2.0 (the \"License\");\n",
              "// you may not use this file except in compliance with the License.\n",
              "// You may obtain a copy of the License at\n",
              "//\n",
              "//      http://www.apache.org/licenses/LICENSE-2.0\n",
              "//\n",
              "// Unless required by applicable law or agreed to in writing, software\n",
              "// distributed under the License is distributed on an \"AS IS\" BASIS,\n",
              "// WITHOUT WARRANTIES OR CONDITIONS OF ANY KIND, either express or implied.\n",
              "// See the License for the specific language governing permissions and\n",
              "// limitations under the License.\n",
              "\n",
              "/**\n",
              " * @fileoverview Helpers for google.colab Python module.\n",
              " */\n",
              "(function(scope) {\n",
              "function span(text, styleAttributes = {}) {\n",
              "  const element = document.createElement('span');\n",
              "  element.textContent = text;\n",
              "  for (const key of Object.keys(styleAttributes)) {\n",
              "    element.style[key] = styleAttributes[key];\n",
              "  }\n",
              "  return element;\n",
              "}\n",
              "\n",
              "// Max number of bytes which will be uploaded at a time.\n",
              "const MAX_PAYLOAD_SIZE = 100 * 1024;\n",
              "\n",
              "function _uploadFiles(inputId, outputId) {\n",
              "  const steps = uploadFilesStep(inputId, outputId);\n",
              "  const outputElement = document.getElementById(outputId);\n",
              "  // Cache steps on the outputElement to make it available for the next call\n",
              "  // to uploadFilesContinue from Python.\n",
              "  outputElement.steps = steps;\n",
              "\n",
              "  return _uploadFilesContinue(outputId);\n",
              "}\n",
              "\n",
              "// This is roughly an async generator (not supported in the browser yet),\n",
              "// where there are multiple asynchronous steps and the Python side is going\n",
              "// to poll for completion of each step.\n",
              "// This uses a Promise to block the python side on completion of each step,\n",
              "// then passes the result of the previous step as the input to the next step.\n",
              "function _uploadFilesContinue(outputId) {\n",
              "  const outputElement = document.getElementById(outputId);\n",
              "  const steps = outputElement.steps;\n",
              "\n",
              "  const next = steps.next(outputElement.lastPromiseValue);\n",
              "  return Promise.resolve(next.value.promise).then((value) => {\n",
              "    // Cache the last promise value to make it available to the next\n",
              "    // step of the generator.\n",
              "    outputElement.lastPromiseValue = value;\n",
              "    return next.value.response;\n",
              "  });\n",
              "}\n",
              "\n",
              "/**\n",
              " * Generator function which is called between each async step of the upload\n",
              " * process.\n",
              " * @param {string} inputId Element ID of the input file picker element.\n",
              " * @param {string} outputId Element ID of the output display.\n",
              " * @return {!Iterable<!Object>} Iterable of next steps.\n",
              " */\n",
              "function* uploadFilesStep(inputId, outputId) {\n",
              "  const inputElement = document.getElementById(inputId);\n",
              "  inputElement.disabled = false;\n",
              "\n",
              "  const outputElement = document.getElementById(outputId);\n",
              "  outputElement.innerHTML = '';\n",
              "\n",
              "  const pickedPromise = new Promise((resolve) => {\n",
              "    inputElement.addEventListener('change', (e) => {\n",
              "      resolve(e.target.files);\n",
              "    });\n",
              "  });\n",
              "\n",
              "  const cancel = document.createElement('button');\n",
              "  inputElement.parentElement.appendChild(cancel);\n",
              "  cancel.textContent = 'Cancel upload';\n",
              "  const cancelPromise = new Promise((resolve) => {\n",
              "    cancel.onclick = () => {\n",
              "      resolve(null);\n",
              "    };\n",
              "  });\n",
              "\n",
              "  // Wait for the user to pick the files.\n",
              "  const files = yield {\n",
              "    promise: Promise.race([pickedPromise, cancelPromise]),\n",
              "    response: {\n",
              "      action: 'starting',\n",
              "    }\n",
              "  };\n",
              "\n",
              "  cancel.remove();\n",
              "\n",
              "  // Disable the input element since further picks are not allowed.\n",
              "  inputElement.disabled = true;\n",
              "\n",
              "  if (!files) {\n",
              "    return {\n",
              "      response: {\n",
              "        action: 'complete',\n",
              "      }\n",
              "    };\n",
              "  }\n",
              "\n",
              "  for (const file of files) {\n",
              "    const li = document.createElement('li');\n",
              "    li.append(span(file.name, {fontWeight: 'bold'}));\n",
              "    li.append(span(\n",
              "        `(${file.type || 'n/a'}) - ${file.size} bytes, ` +\n",
              "        `last modified: ${\n",
              "            file.lastModifiedDate ? file.lastModifiedDate.toLocaleDateString() :\n",
              "                                    'n/a'} - `));\n",
              "    const percent = span('0% done');\n",
              "    li.appendChild(percent);\n",
              "\n",
              "    outputElement.appendChild(li);\n",
              "\n",
              "    const fileDataPromise = new Promise((resolve) => {\n",
              "      const reader = new FileReader();\n",
              "      reader.onload = (e) => {\n",
              "        resolve(e.target.result);\n",
              "      };\n",
              "      reader.readAsArrayBuffer(file);\n",
              "    });\n",
              "    // Wait for the data to be ready.\n",
              "    let fileData = yield {\n",
              "      promise: fileDataPromise,\n",
              "      response: {\n",
              "        action: 'continue',\n",
              "      }\n",
              "    };\n",
              "\n",
              "    // Use a chunked sending to avoid message size limits. See b/62115660.\n",
              "    let position = 0;\n",
              "    do {\n",
              "      const length = Math.min(fileData.byteLength - position, MAX_PAYLOAD_SIZE);\n",
              "      const chunk = new Uint8Array(fileData, position, length);\n",
              "      position += length;\n",
              "\n",
              "      const base64 = btoa(String.fromCharCode.apply(null, chunk));\n",
              "      yield {\n",
              "        response: {\n",
              "          action: 'append',\n",
              "          file: file.name,\n",
              "          data: base64,\n",
              "        },\n",
              "      };\n",
              "\n",
              "      let percentDone = fileData.byteLength === 0 ?\n",
              "          100 :\n",
              "          Math.round((position / fileData.byteLength) * 100);\n",
              "      percent.textContent = `${percentDone}% done`;\n",
              "\n",
              "    } while (position < fileData.byteLength);\n",
              "  }\n",
              "\n",
              "  // All done.\n",
              "  yield {\n",
              "    response: {\n",
              "      action: 'complete',\n",
              "    }\n",
              "  };\n",
              "}\n",
              "\n",
              "scope.google = scope.google || {};\n",
              "scope.google.colab = scope.google.colab || {};\n",
              "scope.google.colab._files = {\n",
              "  _uploadFiles,\n",
              "  _uploadFilesContinue,\n",
              "};\n",
              "})(self);\n",
              "</script> "
            ]
          },
          "metadata": {}
        },
        {
          "output_type": "stream",
          "name": "stdout",
          "text": [
            "Saving movies.csv to movies.csv\n"
          ]
        }
      ]
    },
    {
      "cell_type": "code",
      "source": [
        "df = spark.read.csv('movies.csv', header=True, inferSchema=True)"
      ],
      "metadata": {
        "id": "dHZUtSGSL68g"
      },
      "execution_count": null,
      "outputs": []
    },
    {
      "cell_type": "code",
      "source": [
        "df.printSchema()"
      ],
      "metadata": {
        "colab": {
          "base_uri": "https://localhost:8080/"
        },
        "id": "Lv1kZ5kQRzNw",
        "outputId": "8a058d30-533f-4116-da50-bae714e9fe0e"
      },
      "execution_count": 17,
      "outputs": [
        {
          "output_type": "stream",
          "name": "stdout",
          "text": [
            "root\n",
            " |-- Position: integer (nullable = true)\n",
            " |-- Const: string (nullable = true)\n",
            " |-- Created: date (nullable = true)\n",
            " |-- Modified: date (nullable = true)\n",
            " |-- Description: string (nullable = true)\n",
            " |-- Title: string (nullable = true)\n",
            " |-- URL: string (nullable = true)\n",
            " |-- Title Type: string (nullable = true)\n",
            " |-- IMDb Rating: double (nullable = true)\n",
            " |-- Runtime (mins): integer (nullable = true)\n",
            " |-- Year: integer (nullable = true)\n",
            " |-- Genres: string (nullable = true)\n",
            " |-- Num Votes: integer (nullable = true)\n",
            " |-- Release Date: date (nullable = true)\n",
            " |-- Directors: string (nullable = true)\n",
            "\n"
          ]
        }
      ]
    },
    {
      "cell_type": "code",
      "source": [
        "df.show()"
      ],
      "metadata": {
        "colab": {
          "base_uri": "https://localhost:8080/"
        },
        "id": "z0fivTTmRzm2",
        "outputId": "c6e7cb7b-c88a-488a-d334-28ef62f3f6ef"
      },
      "execution_count": 13,
      "outputs": [
        {
          "output_type": "stream",
          "name": "stdout",
          "text": [
            "+--------+---------+----------+----------+-----------+--------------------+--------------------+----------+-----------+--------------+----+--------------------+---------+------------+--------------------+\n",
            "|Position|    Const|   Created|  Modified|Description|               Title|                 URL|Title Type|IMDb Rating|Runtime (mins)|Year|              Genres|Num Votes|Release Date|           Directors|\n",
            "+--------+---------+----------+----------+-----------+--------------------+--------------------+----------+-----------+--------------+----+--------------------+---------+------------+--------------------+\n",
            "|       1|tt4369136|2019-03-11|2019-03-11|       NULL|   Hide in the Light|https://www.imdb....|     movie|        3.7|            78|2018|    Horror, Thriller|      464|  2018-03-11|      Mikey McGregor|\n",
            "|       2|tt1622566|2019-03-11|2019-03-11|       NULL|        After Effect|https://www.imdb....|     movie|        4.1|            95|2012|Action, Horror, T...|      606|  2012-02-08|       David McElroy|\n",
            "|       3|tt5810368|2019-03-11|2019-03-11|       NULL|        The Detained|https://www.imdb....|     movie|        3.4|            90|2017|Comedy, Drama, Ho...|     1614|  2017-09-12|         Blair Hayes|\n",
            "|       4|tt6540984|2019-03-11|2019-03-11|       NULL|         #SquadGoals|https://www.imdb....|     movie|        4.2|            90|2018|     Drama, Thriller|      623|  2018-01-16|      Danny J. Boyle|\n",
            "|       5|tt4971408|2019-03-11|2019-03-11|       NULL|Await Further Ins...|https://www.imdb....|     movie|        4.9|            91|2018|Horror, Mystery, ...|     9560|  2018-06-22|    Johnny Kevorkian|\n",
            "|       6|tt6089358|2019-03-11|2019-03-11|       NULL|Haunting on Frate...|https://www.imdb....|     movie|        3.8|            99|2018|Horror, Mystery, ...|     1181|  2018-11-02|        Brant Sersen|\n",
            "|       7|tt5851598|2019-03-11|2019-03-11|       NULL|               Lasso|https://www.imdb....|     movie|        4.8|            97|2017|    Horror, Thriller|      719|  2017-10-22|          Evan Cecil|\n",
            "|       8|tt6664700|2019-03-11|2019-03-11|       NULL|           Extremity|https://www.imdb....|     movie|        4.3|           103|2018|     Horror, Mystery|     1092|  2018-09-17|     Anthony DiBlasi|\n",
            "|       9|tt6705640|2019-03-11|2019-03-11|       NULL|              Trauma|https://www.imdb....|     movie|        4.8|           106|2017|Action, Drama, Ho...|     2364|  2017-10-28|      Lucio A. Rojas|\n",
            "|      10|tt4263780|2019-03-11|2019-03-11|       NULL|        The Snarling|https://www.imdb....|     movie|        4.5|            83|2018|Action, Comedy, F...|      555|  2018-10-29|      Pablo Raybould|\n",
            "|      11|tt4081012|2019-03-11|2019-03-11|       NULL|         In Extremis|https://www.imdb....|     movie|        4.5|            93|2017|    Horror, Thriller|      574|  2017-10-12|         Steve Stone|\n",
            "|      12|tt7039000|2019-03-11|2019-03-11|       NULL|      Mr. Malevolent|https://www.imdb....|     movie|        4.4|            90|2018|      Comedy, Horror|      825|  2018-10-11|Darin Scott, Rust...|\n",
            "|      13|tt6118340|2019-03-11|2019-03-11|       NULL|        The Basement|https://www.imdb....|     movie|        4.0|            88|2018|              Horror|     4137|  2018-09-14|Nathan Ives, Bria...|\n",
            "|      14|tt8403680|2019-03-11|2019-03-11|       NULL|Tales from the Ho...|https://www.imdb....|     video|        4.4|           111|2018|Comedy, Crime, Dr...|     2272|  2018-07-13|Darin Scott, Rust...|\n",
            "|      15|tt6053472|2019-03-11|2019-03-11|       NULL|          The Toybox|https://www.imdb....|     movie|        3.7|            95|2018|              Horror|     2698|  2018-05-05|           Tom Nagel|\n",
            "|      16|tt5325604|2019-03-11|2019-03-11|       NULL|          Inoperable|https://www.imdb....|     movie|        4.0|            85|2017|     Horror, Mystery|      862|  2017-12-01|Christopher Lawre...|\n",
            "|      17|tt7319064|2019-03-11|2019-03-11|       NULL|        Killer Kate!|https://www.imdb....|     movie|        3.7|            80|2018|Comedy, Horror, T...|      567|  2018-10-07|         Elliot Feld|\n",
            "|      18|tt4602554|2019-03-11|2019-03-11|       NULL|       Sick for Toys|https://www.imdb....|     movie|        4.1|            90|2018|              Horror|      767|  2018-05-05|       David Del Rio|\n",
            "|      19|tt7375304|2019-03-11|2019-03-11|       NULL|         Ouija House|https://www.imdb....|     movie|        3.0|            95|2018|    Horror, Thriller|     1331|  2018-05-05|         Ben Demaree|\n",
            "|      20|tt0833609|2019-03-11|2019-03-11|       NULL|           Petrified|https://www.imdb....|     video|        3.1|            71|2006|              Horror|      294|  2006-09-26|        Charles Band|\n",
            "+--------+---------+----------+----------+-----------+--------------------+--------------------+----------+-----------+--------------+----+--------------------+---------+------------+--------------------+\n",
            "only showing top 20 rows\n",
            "\n"
          ]
        }
      ]
    },
    {
      "cell_type": "code",
      "source": [
        "df_movie = df.select('Title', 'Year', 'Genres', 'Directors', 'Num Votes')"
      ],
      "metadata": {
        "id": "pKSbbr0UR9Tp"
      },
      "execution_count": 18,
      "outputs": []
    },
    {
      "cell_type": "code",
      "source": [
        "df_movie.show()"
      ],
      "metadata": {
        "colab": {
          "base_uri": "https://localhost:8080/"
        },
        "id": "oqPmYbZYTpAr",
        "outputId": "005f2949-8982-4ce7-b14e-60b4e38717c3"
      },
      "execution_count": 19,
      "outputs": [
        {
          "output_type": "stream",
          "name": "stdout",
          "text": [
            "+--------------------+----+--------------------+--------------------+---------+\n",
            "|               Title|Year|              Genres|           Directors|Num Votes|\n",
            "+--------------------+----+--------------------+--------------------+---------+\n",
            "|   Hide in the Light|2018|    Horror, Thriller|      Mikey McGregor|      464|\n",
            "|        After Effect|2012|Action, Horror, T...|       David McElroy|      606|\n",
            "|        The Detained|2017|Comedy, Drama, Ho...|         Blair Hayes|     1614|\n",
            "|         #SquadGoals|2018|     Drama, Thriller|      Danny J. Boyle|      623|\n",
            "|Await Further Ins...|2018|Horror, Mystery, ...|    Johnny Kevorkian|     9560|\n",
            "|Haunting on Frate...|2018|Horror, Mystery, ...|        Brant Sersen|     1181|\n",
            "|               Lasso|2017|    Horror, Thriller|          Evan Cecil|      719|\n",
            "|           Extremity|2018|     Horror, Mystery|     Anthony DiBlasi|     1092|\n",
            "|              Trauma|2017|Action, Drama, Ho...|      Lucio A. Rojas|     2364|\n",
            "|        The Snarling|2018|Action, Comedy, F...|      Pablo Raybould|      555|\n",
            "|         In Extremis|2017|    Horror, Thriller|         Steve Stone|      574|\n",
            "|      Mr. Malevolent|2018|      Comedy, Horror|Darin Scott, Rust...|      825|\n",
            "|        The Basement|2018|              Horror|Nathan Ives, Bria...|     4137|\n",
            "|Tales from the Ho...|2018|Comedy, Crime, Dr...|Darin Scott, Rust...|     2272|\n",
            "|          The Toybox|2018|              Horror|           Tom Nagel|     2698|\n",
            "|          Inoperable|2017|     Horror, Mystery|Christopher Lawre...|      862|\n",
            "|        Killer Kate!|2018|Comedy, Horror, T...|         Elliot Feld|      567|\n",
            "|       Sick for Toys|2018|              Horror|       David Del Rio|      767|\n",
            "|         Ouija House|2018|    Horror, Thriller|         Ben Demaree|     1331|\n",
            "|           Petrified|2006|              Horror|        Charles Band|      294|\n",
            "+--------------------+----+--------------------+--------------------+---------+\n",
            "only showing top 20 rows\n",
            "\n"
          ]
        }
      ]
    },
    {
      "cell_type": "code",
      "source": [
        "df_movie = df_movie.withColumnRenamed('Num Votes', 'Votes')"
      ],
      "metadata": {
        "id": "jcr0lcjfUwqg"
      },
      "execution_count": 22,
      "outputs": []
    },
    {
      "cell_type": "code",
      "source": [
        "df_movie.filter(df_movie.Votes > 800).show()"
      ],
      "metadata": {
        "colab": {
          "base_uri": "https://localhost:8080/"
        },
        "id": "6zqCP8_7VILH",
        "outputId": "3b166987-851f-43d9-bd14-d595b32a1be4"
      },
      "execution_count": 23,
      "outputs": [
        {
          "output_type": "stream",
          "name": "stdout",
          "text": [
            "+--------------------+----+--------------------+--------------------+-----+\n",
            "|               Title|Year|              Genres|           Directors|Votes|\n",
            "+--------------------+----+--------------------+--------------------+-----+\n",
            "|        The Detained|2017|Comedy, Drama, Ho...|         Blair Hayes| 1614|\n",
            "|Await Further Ins...|2018|Horror, Mystery, ...|    Johnny Kevorkian| 9560|\n",
            "|Haunting on Frate...|2018|Horror, Mystery, ...|        Brant Sersen| 1181|\n",
            "|           Extremity|2018|     Horror, Mystery|     Anthony DiBlasi| 1092|\n",
            "|              Trauma|2017|Action, Drama, Ho...|      Lucio A. Rojas| 2364|\n",
            "|      Mr. Malevolent|2018|      Comedy, Horror|Darin Scott, Rust...|  825|\n",
            "|        The Basement|2018|              Horror|Nathan Ives, Bria...| 4137|\n",
            "|Tales from the Ho...|2018|Comedy, Crime, Dr...|Darin Scott, Rust...| 2272|\n",
            "|          The Toybox|2018|              Horror|           Tom Nagel| 2698|\n",
            "|          Inoperable|2017|     Horror, Mystery|Christopher Lawre...|  862|\n",
            "|         Ouija House|2018|    Horror, Thriller|         Ben Demaree| 1331|\n",
            "|  The Jurassic Games|2018|Action, Horror, S...|      Ryan Bellgardt| 3029|\n",
            "|              Realms|2017|     Horror, Mystery|         Daric Gates| 1282|\n",
            "| Lake Placid: Legacy|2018|Action, Horror, S...|       Darrell Roodt| 2599|\n",
            "|           Megalodon|2018|Action, Adventure...|        James Thomas| 2519|\n",
            "|          Flight 666|2018|      Action, Horror|       Rob Pallatina| 1642|\n",
            "|6-Headed Shark At...|2018|Action, Adventure...|         Mark Atkins| 1505|\n",
            "|5 Headed Shark At...|2017|Action, Adventure...|        Nico De Leon| 1761|\n",
            "|Mega Shark vs. Me...|2014|Action, Adventure...|   Emile Edwin Smith| 3418|\n",
            "|Sharknado 5: Glob...|2017|Action, Adventure...| Anthony C. Ferrante| 6853|\n",
            "+--------------------+----+--------------------+--------------------+-----+\n",
            "only showing top 20 rows\n",
            "\n"
          ]
        }
      ]
    },
    {
      "cell_type": "code",
      "source": [
        "from pyspark.sql.functions import max\n",
        "\n",
        "df_max = df_movie.agg(max('Votes').alias('max_votes')).show()"
      ],
      "metadata": {
        "colab": {
          "base_uri": "https://localhost:8080/"
        },
        "id": "69rcST5eVkAQ",
        "outputId": "0ef27301-7046-4b8e-c0da-dc4e9b1a051d"
      },
      "execution_count": 24,
      "outputs": [
        {
          "output_type": "stream",
          "name": "stdout",
          "text": [
            "+---------+\n",
            "|max_votes|\n",
            "+---------+\n",
            "|    91068|\n",
            "+---------+\n",
            "\n"
          ]
        }
      ]
    },
    {
      "cell_type": "code",
      "source": [
        "df_max_votes = df_movie.filter(df_movie.Votes == 91068).show()"
      ],
      "metadata": {
        "colab": {
          "base_uri": "https://localhost:8080/"
        },
        "id": "FD39hQ3jWDDu",
        "outputId": "498fcd04-1b1d-4df8-8fc1-06c383333f03"
      },
      "execution_count": 27,
      "outputs": [
        {
          "output_type": "stream",
          "name": "stdout",
          "text": [
            "+------+----+--------------------+--------------------+-----+\n",
            "| Title|Year|              Genres|           Directors|Votes|\n",
            "+------+----+--------------------+--------------------+-----+\n",
            "|Jigsaw|2017|Horror, Mystery, ...|Michael Spierig, ...|91068|\n",
            "+------+----+--------------------+--------------------+-----+\n",
            "\n"
          ]
        }
      ]
    },
    {
      "cell_type": "code",
      "source": [
        "from pyspark.sql.functions import count, col, asc, desc\n",
        "\n",
        "df_sum = df_movie.groupBy('Genres').count()\n",
        "\n",
        "df_sum.show(truncate=False)"
      ],
      "metadata": {
        "colab": {
          "base_uri": "https://localhost:8080/"
        },
        "id": "R580UFIKWldu",
        "outputId": "c718936c-c326-4056-c25c-7a72c4d44ed2"
      },
      "execution_count": 39,
      "outputs": [
        {
          "output_type": "stream",
          "name": "stdout",
          "text": [
            "+---------------------------------------------------+-----+\n",
            "|Genres                                             |count|\n",
            "+---------------------------------------------------+-----+\n",
            "|Drama, Horror, Mystery, Thriller                   |4    |\n",
            "|Comedy, Fantasy, Horror, Mystery                   |1    |\n",
            "|Drama, Horror, Mystery, Thriller, War              |1    |\n",
            "|Action, Adventure, Drama, Sci-Fi, Thriller         |1    |\n",
            "|Thriller                                           |1    |\n",
            "|Drama, Horror, Mystery, Sci-Fi                     |1    |\n",
            "|Action, Adventure, Comedy, Horror, Sci-Fi, Thriller|16   |\n",
            "|Action, Horror, Sci-Fi, Thriller                   |5    |\n",
            "|Adventure, Horror, Thriller                        |1    |\n",
            "|Comedy, Horror, Thriller                           |5    |\n",
            "|Mystery, Thriller                                  |1    |\n",
            "|Adventure, Comedy, Horror                          |1    |\n",
            "|Short, Horror                                      |2    |\n",
            "|Documentary, Horror, Thriller                      |1    |\n",
            "|Action, Fantasy, Horror                            |1    |\n",
            "|Action, Adventure, Drama, Horror, Sci-Fi, Thriller |1    |\n",
            "|Action, Horror, Thriller                           |4    |\n",
            "|Action, Adventure, Horror, Sci-Fi, Thriller        |2    |\n",
            "|Adventure, Comedy, Fantasy, Horror                 |1    |\n",
            "|Action, Fantasy, Horror, Mystery, Thriller         |1    |\n",
            "+---------------------------------------------------+-----+\n",
            "only showing top 20 rows\n",
            "\n"
          ]
        }
      ]
    },
    {
      "cell_type": "code",
      "source": [
        "df_sum.orderBy(col('count').desc()).show(truncate=False)"
      ],
      "metadata": {
        "colab": {
          "base_uri": "https://localhost:8080/"
        },
        "id": "iAOu4ptbXd5z",
        "outputId": "ef1b52bc-da6a-4e5a-f318-befa7ede5f9d"
      },
      "execution_count": 42,
      "outputs": [
        {
          "output_type": "stream",
          "name": "stdout",
          "text": [
            "+------------------------------------------------------------+-----+\n",
            "|Genres                                                      |count|\n",
            "+------------------------------------------------------------+-----+\n",
            "|Horror                                                      |62   |\n",
            "|Horror, Thriller                                            |27   |\n",
            "|Horror, Mystery, Thriller                                   |16   |\n",
            "|Action, Adventure, Comedy, Horror, Sci-Fi, Thriller         |16   |\n",
            "|Comedy, Horror                                              |14   |\n",
            "|Drama, Horror, Thriller                                     |9    |\n",
            "|Horror, Mystery                                             |9    |\n",
            "|Documentary, Horror                                         |8    |\n",
            "|Horror, Sci-Fi, Thriller                                    |7    |\n",
            "|Action, Horror, Sci-Fi, Thriller                            |5    |\n",
            "|Comedy, Horror, Thriller                                    |5    |\n",
            "|Horror, Sci-Fi                                              |5    |\n",
            "|Drama, Horror, Mystery, Sci-Fi, Thriller                    |5    |\n",
            "|Action, Horror, Thriller                                    |4    |\n",
            "|Action, Adventure, Comedy, Fantasy, Horror, Sci-Fi, Thriller|4    |\n",
            "|Drama, Horror, Mystery, Thriller                            |4    |\n",
            "|Drama, Thriller                                             |4    |\n",
            "|Horror, Mystery, Sci-Fi, Thriller                           |3    |\n",
            "|Drama, Horror                                               |3    |\n",
            "|Action, Horror, Sci-Fi                                      |3    |\n",
            "+------------------------------------------------------------+-----+\n",
            "only showing top 20 rows\n",
            "\n"
          ]
        }
      ]
    },
    {
      "cell_type": "code",
      "source": [
        "df_movie.select('Title', 'Year', 'Genres', 'Directors').filter(df_movie.Year.isin(2017, 2014)).show()\n",
        "\n",
        "df_movie.select('Title', 'Year', 'Genres', 'Directors').filter(~df_movie.Year.isin(2017, 2014)).show()"
      ],
      "metadata": {
        "colab": {
          "base_uri": "https://localhost:8080/"
        },
        "id": "G9Y_SVluZBvD",
        "outputId": "c8adaec8-d926-475e-c20c-219f1acbd2dc"
      },
      "execution_count": 45,
      "outputs": [
        {
          "output_type": "stream",
          "name": "stdout",
          "text": [
            "+--------------------+----+--------------------+--------------------+\n",
            "|               Title|Year|              Genres|           Directors|\n",
            "+--------------------+----+--------------------+--------------------+\n",
            "|        The Detained|2017|Comedy, Drama, Ho...|         Blair Hayes|\n",
            "|               Lasso|2017|    Horror, Thriller|          Evan Cecil|\n",
            "|              Trauma|2017|Action, Drama, Ho...|      Lucio A. Rojas|\n",
            "|         In Extremis|2017|    Horror, Thriller|         Steve Stone|\n",
            "|          Inoperable|2017|     Horror, Mystery|Christopher Lawre...|\n",
            "|              Realms|2017|     Horror, Mystery|         Daric Gates|\n",
            "|5 Headed Shark At...|2017|Action, Adventure...|        Nico De Leon|\n",
            "|Mega Shark vs. Me...|2014|Action, Adventure...|   Emile Edwin Smith|\n",
            "|Sharknado 5: Glob...|2017|Action, Adventure...| Anthony C. Ferrante|\n",
            "|         Toxic Shark|2017|Action, Adventure...|         Cole Sharpe|\n",
            "|  Trailer Park Shark|2017|Action, Adventure...|         Griff Furst|\n",
            "|         House Shark|2017|Action, Adventure...|            Ron Bonk|\n",
            "|Mississippi River...|2017|Action, Adventure...|        Misty Talley|\n",
            "|        Broken Ghost|2017|     Drama, Thriller|        Richard Gray|\n",
            "|      Purgatory Road|2017|       Crime, Horror|         Mark Savage|\n",
            "|  House of the Witch|2017|Fantasy, Horror, ...|         Alex Merkin|\n",
            "|          Fake Blood|2017|Documentary, Horr...|           Rob Grant|\n",
            "|      Mother Krampus|2017|              Horror|         James Klass|\n",
            "|            Unhinged|2017|              Horror|           Dan Allen|\n",
            "|   Black Hollow Cage|2017|Drama, Horror, My...|Sadrac González-P...|\n",
            "+--------------------+----+--------------------+--------------------+\n",
            "only showing top 20 rows\n",
            "\n",
            "+--------------------+----+--------------------+--------------------+\n",
            "|               Title|Year|              Genres|           Directors|\n",
            "+--------------------+----+--------------------+--------------------+\n",
            "|   Hide in the Light|2018|    Horror, Thriller|      Mikey McGregor|\n",
            "|        After Effect|2012|Action, Horror, T...|       David McElroy|\n",
            "|         #SquadGoals|2018|     Drama, Thriller|      Danny J. Boyle|\n",
            "|Await Further Ins...|2018|Horror, Mystery, ...|    Johnny Kevorkian|\n",
            "|Haunting on Frate...|2018|Horror, Mystery, ...|        Brant Sersen|\n",
            "|           Extremity|2018|     Horror, Mystery|     Anthony DiBlasi|\n",
            "|        The Snarling|2018|Action, Comedy, F...|      Pablo Raybould|\n",
            "|      Mr. Malevolent|2018|      Comedy, Horror|Darin Scott, Rust...|\n",
            "|        The Basement|2018|              Horror|Nathan Ives, Bria...|\n",
            "|Tales from the Ho...|2018|Comedy, Crime, Dr...|Darin Scott, Rust...|\n",
            "|          The Toybox|2018|              Horror|           Tom Nagel|\n",
            "|        Killer Kate!|2018|Comedy, Horror, T...|         Elliot Feld|\n",
            "|       Sick for Toys|2018|              Horror|       David Del Rio|\n",
            "|         Ouija House|2018|    Horror, Thriller|         Ben Demaree|\n",
            "|           Petrified|2006|              Horror|        Charles Band|\n",
            "|  The Jurassic Games|2018|Action, Horror, S...|      Ryan Bellgardt|\n",
            "|      Triassic World|2018|Action, Horror, S...|           Dylan Vox|\n",
            "| Lake Placid: Legacy|2018|Action, Horror, S...|       Darrell Roodt|\n",
            "|           Megalodon|2018|Action, Adventure...|        James Thomas|\n",
            "|          Flight 666|2018|      Action, Horror|       Rob Pallatina|\n",
            "+--------------------+----+--------------------+--------------------+\n",
            "only showing top 20 rows\n",
            "\n"
          ]
        }
      ]
    },
    {
      "cell_type": "code",
      "source": [
        "df_movie.createOrReplaceTempView('movies')\n",
        "\n",
        "spark.sql('''\n",
        "SELECT\n",
        "Year,\n",
        "count(*) AS Qtd\n",
        "FROM movies\n",
        "GROUP BY Year\n",
        "ORDER BY 1 DESC''').show(truncate=False)"
      ],
      "metadata": {
        "colab": {
          "base_uri": "https://localhost:8080/"
        },
        "id": "O92wBPjXZ0lz",
        "outputId": "0a8b5065-5079-489f-e082-2b742d3c2bf1"
      },
      "execution_count": 48,
      "outputs": [
        {
          "output_type": "stream",
          "name": "stdout",
          "text": [
            "+----+---+\n",
            "|Year|Qtd|\n",
            "+----+---+\n",
            "|2023|1  |\n",
            "|2022|2  |\n",
            "|2020|4  |\n",
            "|2019|8  |\n",
            "|2018|77 |\n",
            "|2017|53 |\n",
            "|2016|25 |\n",
            "|2015|28 |\n",
            "|2014|27 |\n",
            "|2013|13 |\n",
            "|2012|10 |\n",
            "|2011|5  |\n",
            "|2010|3  |\n",
            "|2008|4  |\n",
            "|2007|4  |\n",
            "|2006|3  |\n",
            "|2005|1  |\n",
            "|2004|2  |\n",
            "|2002|1  |\n",
            "|2001|1  |\n",
            "+----+---+\n",
            "only showing top 20 rows\n",
            "\n"
          ]
        }
      ]
    }
  ]
}